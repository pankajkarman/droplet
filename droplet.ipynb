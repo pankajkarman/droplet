{
 "cells": [
  {
   "cell_type": "code",
   "execution_count": 22,
   "metadata": {},
   "outputs": [
    {
     "name": "stdout",
     "output_type": "stream",
     "text": [
      "time: 1 ms\n"
     ]
    }
   ],
   "source": [
    "# from init import *\n",
    "import numpy as np\n",
    "from tqdm import tqdm\n",
    "import matplotlib.pyplot as plt\n",
    "import gif"
   ]
  },
  {
   "cell_type": "code",
   "execution_count": 20,
   "metadata": {},
   "outputs": [
    {
     "name": "stdout",
     "output_type": "stream",
     "text": [
      "time: 2 ms\n"
     ]
    }
   ],
   "source": [
    "@gif.frame\n",
    "def plot(x, y, T, i):\n",
    "    fig, ax = plt.subplots(figsize=(10, 6))\n",
    "    ax.set_title(i)\n",
    "    ax.axis('off')\n",
    "    levels = np.linspace(-10, 10, 30)\n",
    "    im = ax.contourf(x, y, T, cmap='gray', levels=levels)\n",
    "    plt.colorbar(im, ticks=np.arange(-10, 11, 5))\n",
    "\n",
    "def pol2cart(q, r):\n",
    "    x = r * np.cos(q)\n",
    "    y = r * np.sin(q)\n",
    "    return x, y"
   ]
  },
  {
   "cell_type": "code",
   "execution_count": 3,
   "metadata": {},
   "outputs": [
    {
     "name": "stdout",
     "output_type": "stream",
     "text": [
      "time: 158 ms\n"
     ]
    }
   ],
   "source": [
    "r1 = 0\n",
    "q1 = 0\n",
    "alpha = 10\n",
    "Qv = 333000\n",
    "\n",
    "Ta = 10\n",
    "Tc = -10\n",
    "Tc_l = 0.01\n",
    "\n",
    "rho = 925\n",
    "rho_l = 998.2\n",
    "\n",
    "k = 2.219\n",
    "k_l = 0.6\n",
    "\n",
    "Cp = 2.1 * 1000\n",
    "Cp_l = 4.18 * 1000\n",
    "\n",
    "R = (0.75 * 0.0001 * 0.5) / np.cos(np.pi / 10.0)\n",
    "delta_t = 0.01\n",
    "delta_r = R / 48\n",
    "delta_q = np.pi / 20\n",
    "\n",
    "S = alpha * delta_r / k\n",
    "S_l = alpha * delta_r / k_l\n",
    "U = (k * delta_t) / (rho * Cp)\n",
    "U_l = (k_l * delta_t) / (rho_l * Cp_l)\n",
    "M = rho_l * (2 * np.pi * R**3) / 3.0"
   ]
  },
  {
   "cell_type": "code",
   "execution_count": 4,
   "metadata": {},
   "outputs": [
    {
     "name": "stderr",
     "output_type": "stream",
     "text": [
      "100%|██████████| 29998/29998 [07:34<00:00, 65.95it/s]"
     ]
    },
    {
     "name": "stdout",
     "output_type": "stream",
     "text": [
      "time: 7min 34s\n"
     ]
    },
    {
     "name": "stderr",
     "output_type": "stream",
     "text": [
      "\n"
     ]
    }
   ],
   "source": [
    "Ts = 30000\n",
    "T = np.zeros((49, 21, Ts))\n",
    "T[:49, [0, 20], :Ts] = Tc\n",
    "T[1:49, 1:20, 0] = Ta\n",
    "\n",
    "for n in tqdm(np.arange(Ts-2)):\n",
    "    for i in np.arange(1, 48):\n",
    "        for j in np.arange(1, 20):\n",
    "            ml = U_l * 1.0 / (r1 + (i-1) * delta_r * (delta_q**2))\n",
    "            up = T[i, j+1, n] + T[i, j-1, n] - 2 * T[i, j, n]\n",
    "            T[i, j, n+1] = T[i, j, n] + ml * up\n",
    "\n",
    "            if T[i, j, n+1] == 0:\n",
    "                up1 = T[i, j+1, n+1] + T[i, j-1, n+1] - 2 * T[i, j, n+1]\n",
    "                T[i, j, n+2] = T[i, j, n+1] + (ml / U_l) * U * up1 + (Qv*delta_t) / (rho*Cp)\n",
    "\n",
    "            elif T[i, j, n+1] < 0:\n",
    "                up1 = T[i, j+1, n+1] + T[i, j-1, n+1] - 2 * T[i, j, n+1]\n",
    "                T[i, j, n+2] = T[i, j, n+1] + (ml / U_l) * U * up1\n",
    "\n",
    "        if (T[i, 10, n] > -0.001) & (T[i, 10, n] < .001):\n",
    "            m = i * delta_r\n",
    "            a = np.sqrt(np.abs(R ** 2 - m ** 2))\n",
    "            # freezing front\n",
    "            M_1 = rho * np.pi * ((R ** 2) * m - (m ** 3) / 3.0)\n",
    "            # Mass above freezing front\n",
    "            M_2 = M - M_1                                                                           \n",
    "            P = np.sqrt(((6 * M_2) / (2 * np.pi * rho_l)) ** 2 + a ** 3)\n",
    "            A = 6 * M_2 / (2 * np.pi * rho_l) + P\n",
    "            B = 6 * M_2 / (2 * np.pi * rho_l) - P\n",
    "            h = A ** (1.0 / 3.0) + B ** (1.0 / 3.0)"
   ]
  },
  {
   "cell_type": "code",
   "execution_count": 21,
   "metadata": {},
   "outputs": [
    {
     "name": "stderr",
     "output_type": "stream",
     "text": [
      "100%|██████████| 15/15 [00:02<00:00,  7.01it/s]\n"
     ]
    },
    {
     "name": "stdout",
     "output_type": "stream",
     "text": [
      "time: 2.69 s\n"
     ]
    }
   ],
   "source": [
    "q = np.linspace(0, np.pi, 21)\n",
    "r = np.linspace(0, R, 49)\n",
    "\n",
    "[q, r] = np.meshgrid(q, r)\n",
    "[x, y] = pol2cart(q, r)\n",
    "\n",
    "frames = []\n",
    "\n",
    "for fr in tqdm(np.arange(0, Ts, 2000)):\n",
    "    frame = plot(x, y, T[:, :, fr], fr)\n",
    "    frames.append(frame)\n",
    "\n",
    "gif.save(frames, 'droplet.gif', duration=300)"
   ]
  }
 ],
 "metadata": {
  "kernelspec": {
   "display_name": "Python 3",
   "language": "python",
   "name": "python3"
  },
  "language_info": {
   "codemirror_mode": {
    "name": "ipython",
    "version": 3
   },
   "file_extension": ".py",
   "mimetype": "text/x-python",
   "name": "python",
   "nbconvert_exporter": "python",
   "pygments_lexer": "ipython3",
   "version": "3.7.7"
  }
 },
 "nbformat": 4,
 "nbformat_minor": 4
}
